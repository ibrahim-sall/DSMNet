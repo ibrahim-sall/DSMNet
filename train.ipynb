{
 "cells": [
  {
   "cell_type": "markdown",
   "id": "399e634c",
   "metadata": {},
   "source": [
    "# DSMNet - Exécution sur Google Colab"
   ]
  },
  {
   "cell_type": "code",
   "execution_count": null,
   "id": "a84050fa",
   "metadata": {
    "vscode": {
     "languageId": "plaintext"
    }
   },
   "outputs": [],
   "source": [
    "!pip install tensorflow scikit-learn pandas matplotlib seaborn tifffile numpy scikit-image opencv-python pillow ipykernel jupyterlab"
   ]
  },
  {
   "cell_type": "code",
   "execution_count": null,
   "id": "2e0c9d8c",
   "metadata": {
    "vscode": {
     "languageId": "plaintext"
    }
   },
   "outputs": [],
   "source": [
    "!git clone https://github.com/ibrahim-sall/DSMNet.git\n",
    "%cd DSMNet"
   ]
  },
  {
   "cell_type": "code",
   "execution_count": null,
   "id": "c7cedcc8",
   "metadata": {
    "vscode": {
     "languageId": "plaintext"
    }
   },
   "outputs": [],
   "source": [
    "!chmod +x run_train_test.sh\n",
    "!sh run_train_test.sh"
   ]
  }
 ],
 "metadata": {
  "language_info": {
   "name": "python"
  }
 },
 "nbformat": 4,
 "nbformat_minor": 5
}
