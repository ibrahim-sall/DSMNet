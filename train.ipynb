{
  "cells": [
    {
      "cell_type": "markdown",
      "id": "399e634c",
      "metadata": {
        "id": "399e634c"
      },
      "source": [
        "# DSMNet - Exécution sur Google Colab"
      ]
    },
    {
      "cell_type": "code",
      "execution_count": null,
      "id": "S30mdOE9OCDt",
      "metadata": {
        "colab": {
          "base_uri": "https://localhost:8080/"
        },
        "id": "S30mdOE9OCDt",
        "outputId": "4e83af9a-16b8-48ed-fe14-9843f9e061ba"
      },
      "outputs": [
        {
          "name": "stdout",
          "output_type": "stream",
          "text": [
            "Mounted at /content/drive\n"
          ]
        }
      ],
      "source": [
        "from google.colab import drive\n",
        "drive.mount('/content/drive')"
      ]
    },
    {
      "cell_type": "code",
      "execution_count": null,
      "id": "a84050fa",
      "metadata": {
        "colab": {
          "base_uri": "https://localhost:8080/",
          "height": 1000
        },
        "collapsed": true,
        "id": "a84050fa",
        "outputId": "c5523c14-671e-416d-94f5-f6027dc26ba7",
        "vscode": {
          "languageId": "plaintext"
        }
      },
      "outputs": [],
      "source": [
        "!pip install tensorflow scikit-learn pandas matplotlib seaborn tifffile numpy scikit-image opencv-python pillow ipykernel jupyterlab"
      ]
    },
    {
      "cell_type": "code",
      "execution_count": null,
      "id": "2e0c9d8c",
      "metadata": {
        "colab": {
          "base_uri": "https://localhost:8080/"
        },
        "collapsed": true,
        "id": "2e0c9d8c",
        "outputId": "92296d3c-5533-4aa6-a830-b03a3c9bf08e",
        "vscode": {
          "languageId": "plaintext"
        }
      },
      "outputs": [],
      "source": [
        "!git clone https://github.com/ibrahim-sall/DSMNet.git\n",
        "%cd DSMNet"
      ]
    },
    {
      "cell_type": "code",
      "execution_count": null,
      "id": "c7cedcc8",
      "metadata": {
        "colab": {
          "base_uri": "https://localhost:8080/"
        },
        "id": "c7cedcc8",
        "outputId": "9bdd8759-f7c0-4d81-89e3-1e8e118df308",
        "vscode": {
          "languageId": "plaintext"
        }
      },
      "outputs": [
        {
          "name": "stdout",
          "output_type": "stream",
          "text": [
            "Starting MTL training...\n",
            "sed: can't read s/correction = .*/correction = False/: No such file or directory\n",
            "WARNING: All log messages before absl::InitializeLog() is called are written to STDERR\n",
            "E0000 00:00:1749720115.899464    2702 cuda_dnn.cc:8310] Unable to register cuDNN factory: Attempting to register factory for plugin cuDNN when one has already been registered\n",
            "E0000 00:00:1749720115.910339    2702 cuda_blas.cc:1418] Unable to register cuBLAS factory: Attempting to register factory for plugin cuBLAS when one has already been registered\n",
            "2025-06-12 09:21:59,840 - INFO - \n",
            "MTL training on Vaihingen just started at 2025-06-12 09:21:59!\n",
            "\n",
            "2025-06-12 09:21:59,840 - INFO - Number of training samples: 13\n",
            "\n",
            "I0000 00:00:1749720120.117609    2702 gpu_device.cc:2022] Created device /job:localhost/replica:0/task:0/device:GPU:0 with 13942 MB memory:  -> device: 0, name: Tesla T4, pci bus id: 0000:00:04.0, compute capability: 7.5\n",
            "2025-06-12 09:22:03,459 - INFO - \n",
            "epoch 1/3 just started!\n",
            "\n",
            "2025-06-12 09:22:03,465 - INFO - Current epoch: 1\n",
            "2025-06-12 09:22:03,465 - INFO - Current LR:    0.001\n",
            "Traceback (most recent call last):\n",
            "  File \"/content/DSMNet/train_mtl.py\", line 153, in <module>\n",
            "    generate_training_batches(train_rgb, train_sar, train_dsm, train_sem, iter, mtl_flag=True)\n",
            "  File \"/content/DSMNet/utils.py\", line 297, in generate_training_batches\n",
            "    dsm_tile = np.array(Image.open(train_dsm[idx])); \n",
            "                        ^^^^^^^^^^^^^^^^^^^^^^^^^^\n",
            "  File \"/usr/local/lib/python3.11/dist-packages/PIL/Image.py\", line 3505, in open\n",
            "    fp = builtins.open(filename, \"rb\")\n",
            "         ^^^^^^^^^^^^^^^^^^^^^^^^^^^^^\n",
            "FileNotFoundError: [Errno 2] No such file or directory: '../drive/MyDrive/Vaihingen/NDSM/dsm_09cm_matching_area7.jpg'\n",
            "MTL training failed\n"
          ]
        }
      ],
      "source": [
        "!chmod +x run_train_test.sh\n",
        "!sh run_train_test.sh"
      ]
    }
  ],
  "metadata": {
    "accelerator": "GPU",
    "colab": {
      "gpuType": "T4",
      "provenance": []
    },
    "kernelspec": {
      "display_name": "Python 3",
      "name": "python3"
    },
    "language_info": {
      "name": "python"
    }
  },
  "nbformat": 4,
  "nbformat_minor": 5
}
